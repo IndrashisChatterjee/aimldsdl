{
  "nbformat": 4,
  "nbformat_minor": 0,
  "metadata": {
    "colab": {
      "provenance": []
    },
    "kernelspec": {
      "name": "python3",
      "display_name": "Python 3"
    },
    "language_info": {
      "name": "python"
    }
  },
  "cells": [
    {
      "cell_type": "code",
      "execution_count": 7,
      "metadata": {
        "id": "CDrVClbbIHuH"
      },
      "outputs": [],
      "source": [
        "import sys\n",
        "import torch\n",
        "import torch.nn as nn\n",
        "import torch.optim as optim\n",
        "import torchvision\n",
        "import torchvision.transforms as transforms\n",
        "import torch.nn.functional as F\n",
        "import numpy as np\n",
        "import pandas as pd\n",
        "from time import time\n",
        "from tqdm import tqdm\n",
        "from torch.utils.data import DataLoader"
      ]
    },
    {
      "cell_type": "code",
      "source": [
        "#Load the MNIST dataset\n",
        "transform = transforms.Compose([transforms.ToTensor(), transforms.Normalize((0.5,), (0.5,))])\n",
        "trainset = torchvision.datasets.MNIST(root='./data', train=True, download=True, transform=transform)\n",
        "trainloader = DataLoader(trainset, batch_size=64, shuffle=True)\n",
        "\n",
        "testset = torchvision.datasets.MNIST(root='./data', train=False, download=True, transform=transform)\n",
        "testloader = DataLoader(testset, batch_size=64, shuffle=False)"
      ],
      "metadata": {
        "colab": {
          "base_uri": "https://localhost:8080/"
        },
        "id": "aE6dY9Z0Ib94",
        "outputId": "3a4d24f2-1156-4886-b1a3-0a3dca758de3"
      },
      "execution_count": 3,
      "outputs": [
        {
          "output_type": "stream",
          "name": "stderr",
          "text": [
            "100%|██████████| 9.91M/9.91M [00:00<00:00, 46.5MB/s]\n",
            "100%|██████████| 28.9k/28.9k [00:00<00:00, 27.1MB/s]\n",
            "100%|██████████| 1.65M/1.65M [00:00<00:00, 99.9MB/s]\n",
            "100%|██████████| 4.54k/4.54k [00:00<00:00, 4.89MB/s]\n"
          ]
        }
      ]
    },
    {
      "cell_type": "markdown",
      "source": [
        "#Knowledge Distillation\n",
        "##Teacher Model\n"
      ],
      "metadata": {
        "id": "RHuKLoxNI-nu"
      }
    },
    {
      "cell_type": "code",
      "source": [
        "class TeacherNet(nn.Module):\n",
        "    def __init__(self):\n",
        "        super(TeacherNet, self).__init__()\n",
        "        self.conv1 = nn.Conv2d(1, 32, 5)\n",
        "        self.pool = nn.MaxPool2d(5, 5)\n",
        "        self.fc1 = nn.Linear(32 * 4 * 4, 128)\n",
        "        self.fc2 = nn.Linear(128, 10)\n",
        "\n",
        "    def forward(self, x):\n",
        "        x = F.relu(self.conv1(x))\n",
        "        x = self.pool(x)\n",
        "        x = x.view(x.size(0), -1)\n",
        "        x = F.relu(self.fc1(x))\n",
        "        x = self.fc2(x)\n",
        "        return x"
      ],
      "metadata": {
        "id": "JrNRZSKVIxYz"
      },
      "execution_count": 4,
      "outputs": []
    },
    {
      "cell_type": "markdown",
      "source": [
        "##Evaluation function\n"
      ],
      "metadata": {
        "id": "qHMBrs1TJPDB"
      }
    },
    {
      "cell_type": "code",
      "source": [
        "\n",
        "def evaluate(model):\n",
        "    model.eval()\n",
        "    correct = 0\n",
        "    total = 0\n",
        "    with torch.no_grad():\n",
        "        for data in testloader:\n",
        "            inputs, labels = data\n",
        "            outputs = model(inputs)\n",
        "            _, predicted = torch.max(outputs.data, 1)\n",
        "            total += labels.size(0)\n",
        "            correct += (predicted == labels).sum().item()\n",
        "    return correct / total"
      ],
      "metadata": {
        "id": "sKzZeDWxJIH-"
      },
      "execution_count": 5,
      "outputs": []
    },
    {
      "cell_type": "markdown",
      "source": [
        "##Initialize and train the teacher model\n"
      ],
      "metadata": {
        "id": "sxOEx8kOJeyW"
      }
    },
    {
      "cell_type": "code",
      "source": [
        "teacher_model = TeacherNet()\n",
        "teacher_optimizer = optim.Adam(teacher_model.parameters(), lr=0.001)\n",
        "teacher_criterion = nn.CrossEntropyLoss()\n",
        "for epoch in range(5):\n",
        "    teacher_model.train()\n",
        "    running_loss = 0.0\n",
        "\n",
        "    for data in tqdm(trainloader):\n",
        "        inputs, labels = data\n",
        "        teacher_optimizer.zero_grad()\n",
        "        outputs = teacher_model(inputs)\n",
        "        loss = teacher_criterion(outputs, labels)\n",
        "        loss.backward()\n",
        "        teacher_optimizer.step()\n",
        "\n",
        "        running_loss += loss.item()\n",
        "\n",
        "    teacher_accuracy = evaluate(teacher_model)\n",
        "\n",
        "    print(f\"Epoch {epoch + 1}, Loss: {running_loss / len(trainloader)}, Accuracy: {teacher_accuracy * 100:.2f}%\")"
      ],
      "metadata": {
        "colab": {
          "base_uri": "https://localhost:8080/"
        },
        "id": "Ab_pTs48JTlf",
        "outputId": "75dab748-af45-4702-9039-d493b97946c3"
      },
      "execution_count": 9,
      "outputs": [
        {
          "output_type": "stream",
          "name": "stderr",
          "text": [
            "100%|██████████| 938/938 [00:38<00:00, 24.27it/s]\n"
          ]
        },
        {
          "output_type": "stream",
          "name": "stdout",
          "text": [
            "Epoch 1, Loss: 0.21660741983748066, Accuracy: 97.57%\n"
          ]
        },
        {
          "output_type": "stream",
          "name": "stderr",
          "text": [
            "100%|██████████| 938/938 [00:36<00:00, 25.47it/s]\n"
          ]
        },
        {
          "output_type": "stream",
          "name": "stdout",
          "text": [
            "Epoch 2, Loss: 0.07360889268011403, Accuracy: 98.15%\n"
          ]
        },
        {
          "output_type": "stream",
          "name": "stderr",
          "text": [
            "100%|██████████| 938/938 [00:37<00:00, 25.00it/s]\n"
          ]
        },
        {
          "output_type": "stream",
          "name": "stdout",
          "text": [
            "Epoch 3, Loss: 0.05601034780255835, Accuracy: 97.93%\n"
          ]
        },
        {
          "output_type": "stream",
          "name": "stderr",
          "text": [
            "100%|██████████| 938/938 [00:37<00:00, 24.93it/s]\n"
          ]
        },
        {
          "output_type": "stream",
          "name": "stdout",
          "text": [
            "Epoch 4, Loss: 0.046822121343029335, Accuracy: 98.89%\n"
          ]
        },
        {
          "output_type": "stream",
          "name": "stderr",
          "text": [
            "100%|██████████| 938/938 [00:38<00:00, 24.67it/s]\n"
          ]
        },
        {
          "output_type": "stream",
          "name": "stdout",
          "text": [
            "Epoch 5, Loss: 0.03901709357439392, Accuracy: 98.23%\n"
          ]
        }
      ]
    },
    {
      "cell_type": "markdown",
      "source": [
        "##Student Model\n"
      ],
      "metadata": {
        "id": "dDULMoqDJxuu"
      }
    },
    {
      "cell_type": "code",
      "source": [
        "\n",
        "class StudentNet(nn.Module):\n",
        "    def __init__(self):\n",
        "        super(StudentNet, self).__init__()\n",
        "        self.fc1 = nn.Linear(28 * 28, 128)\n",
        "        self.fc2 = nn.Linear(128, 10)\n",
        "\n",
        "    def forward(self, x):\n",
        "        x = x.view(x.size(0), -1)\n",
        "        x = F.relu(self.fc1(x))\n",
        "        x = self.fc2(x)\n",
        "        return x"
      ],
      "metadata": {
        "id": "VLdRQEWAJijY"
      },
      "execution_count": 8,
      "outputs": []
    },
    {
      "cell_type": "markdown",
      "source": [
        "##Initialize and train the teacher model\n"
      ],
      "metadata": {
        "id": "_73-T63AKhSF"
      }
    },
    {
      "cell_type": "code",
      "source": [
        "\n",
        "student_model = StudentNet()\n",
        "student_optimizer = optim.Adam(student_model.parameters(), lr=0.001)"
      ],
      "metadata": {
        "id": "5WQ1UC84KVJn"
      },
      "execution_count": 10,
      "outputs": []
    },
    {
      "cell_type": "markdown",
      "source": [
        "##Loss function (KL Divergence)\n"
      ],
      "metadata": {
        "id": "aP8FveXqK2Ak"
      }
    },
    {
      "cell_type": "code",
      "source": [
        "\n",
        "def knowledge_distillation_loss(student_logits, teacher_logits):\n",
        "    p_teacher = F.softmax(teacher_logits , dim=1)\n",
        "    p_student = F.log_softmax(student_logits, dim=1)\n",
        "    loss = F.kl_div(p_student, p_teacher, reduction='batchmean')\n",
        "    return loss"
      ],
      "metadata": {
        "id": "WiELKwarKlFy"
      },
      "execution_count": 11,
      "outputs": []
    },
    {
      "cell_type": "markdown",
      "source": [
        "## Train the student model with knowledge distillation\n"
      ],
      "metadata": {
        "id": "A1cT0fsRLBmz"
      }
    },
    {
      "cell_type": "code",
      "source": [
        "\n",
        "for epoch in range(5):  # You can adjust the number of epochs\n",
        "    student_model.train()\n",
        "    running_loss = 0.0\n",
        "\n",
        "    for data in tqdm(trainloader):\n",
        "        inputs, labels = data\n",
        "        student_optimizer.zero_grad()\n",
        "        student_logits = student_model(inputs)\n",
        "        teacher_logits = teacher_model(inputs).detach()  # Detach the teacher's output to avoid backpropagation\n",
        "        loss = knowledge_distillation_loss(student_logits, teacher_logits)\n",
        "        loss.backward()\n",
        "        student_optimizer.step()\n",
        "\n",
        "        running_loss += loss.item()\n",
        "\n",
        "    student_accuracy = evaluate(student_model)\n",
        "\n",
        "    print(f\"Epoch {epoch + 1}, Loss: {running_loss / len(testloader)}, Accuracy: {student_accuracy * 100:.2f}%\")"
      ],
      "metadata": {
        "colab": {
          "base_uri": "https://localhost:8080/"
        },
        "id": "Q1Lf5NJ3K6zV",
        "outputId": "b668f1d0-c4a1-4405-9b54-68d833630fd4"
      },
      "execution_count": 12,
      "outputs": [
        {
          "output_type": "stream",
          "name": "stderr",
          "text": [
            "100%|██████████| 938/938 [00:24<00:00, 38.26it/s]\n"
          ]
        },
        {
          "output_type": "stream",
          "name": "stdout",
          "text": [
            "Epoch 1, Loss: 2.0235745541419194, Accuracy: 93.30%\n"
          ]
        },
        {
          "output_type": "stream",
          "name": "stderr",
          "text": [
            "100%|██████████| 938/938 [00:25<00:00, 36.14it/s]\n"
          ]
        },
        {
          "output_type": "stream",
          "name": "stdout",
          "text": [
            "Epoch 2, Loss: 0.9613800629688676, Accuracy: 95.70%\n"
          ]
        },
        {
          "output_type": "stream",
          "name": "stderr",
          "text": [
            "100%|██████████| 938/938 [00:25<00:00, 36.36it/s]\n"
          ]
        },
        {
          "output_type": "stream",
          "name": "stdout",
          "text": [
            "Epoch 3, Loss: 0.6861976202173977, Accuracy: 96.45%\n"
          ]
        },
        {
          "output_type": "stream",
          "name": "stderr",
          "text": [
            "100%|██████████| 938/938 [00:25<00:00, 36.57it/s]\n"
          ]
        },
        {
          "output_type": "stream",
          "name": "stdout",
          "text": [
            "Epoch 4, Loss: 0.547288564199902, Accuracy: 96.06%\n"
          ]
        },
        {
          "output_type": "stream",
          "name": "stderr",
          "text": [
            "100%|██████████| 938/938 [00:24<00:00, 38.41it/s]\n"
          ]
        },
        {
          "output_type": "stream",
          "name": "stdout",
          "text": [
            "Epoch 5, Loss: 0.4697081448605201, Accuracy: 96.60%\n"
          ]
        }
      ]
    },
    {
      "cell_type": "code",
      "source": [
        "%timeit evaluate(teacher_model)"
      ],
      "metadata": {
        "colab": {
          "base_uri": "https://localhost:8080/"
        },
        "id": "uNNmWArTLY9k",
        "outputId": "f9680449-5242-4c25-8aaa-5fa72e3f597e"
      },
      "execution_count": 13,
      "outputs": [
        {
          "output_type": "stream",
          "name": "stdout",
          "text": [
            "4.03 s ± 617 ms per loop (mean ± std. dev. of 7 runs, 1 loop each)\n"
          ]
        }
      ]
    },
    {
      "cell_type": "code",
      "source": [
        "%timeit evaluate(student_model) #faster"
      ],
      "metadata": {
        "colab": {
          "base_uri": "https://localhost:8080/"
        },
        "id": "UeLX1DIgL7GM",
        "outputId": "b54d6a7d-8c84-4f3b-d01d-5fc2187b194a"
      },
      "execution_count": 16,
      "outputs": [
        {
          "output_type": "stream",
          "name": "stdout",
          "text": [
            "2.41 s ± 319 ms per loop (mean ± std. dev. of 7 runs, 1 loop each)\n"
          ]
        }
      ]
    },
    {
      "cell_type": "code",
      "source": [],
      "metadata": {
        "id": "S5eSiO3WMBM-"
      },
      "execution_count": null,
      "outputs": []
    }
  ]
}